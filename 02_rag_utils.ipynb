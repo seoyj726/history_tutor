{
 "cells": [
  {
   "cell_type": "code",
   "execution_count": 1,
   "metadata": {},
   "outputs": [],
   "source": [
    "## PDF 파일들 => vectorstore (faise_index)\n",
    "import os\n",
    "from langchain.document_loaders import PyPDFLoader\n",
    "from langchain.text_splitter import RecursiveCharacterTextSplitter"
   ]
  },
  {
   "cell_type": "code",
   "execution_count": 2,
   "metadata": {},
   "outputs": [
    {
     "name": "stdout",
     "output_type": "stream",
     "text": [
      "1/22 5-2-1-1(1지도서).pdf loaded\n",
      "2/22 5-2-1-1(2지도서).pdf loaded\n",
      "3/22 5-2-1-1(3지도서).pdf loaded\n",
      "4/22 5-2-1-1(4지도서).pdf loaded\n",
      "5/22 5-2-1-1(5지도서).pdf loaded\n",
      "6/22 5-2-1-1(6지도서).pdf loaded\n",
      "7/22 5-2-1-1(7지도서).pdf loaded\n",
      "8/22 5-2-1-2(10지도서).pdf loaded\n",
      "9/22 5-2-1-2(11지도서).pdf loaded\n",
      "10/22 5-2-1-2(12지도서).pdf loaded\n",
      "11/22 5-2-1-2(13지도서).pdf loaded\n",
      "12/22 5-2-1-2(14지도서).pdf loaded\n",
      "13/22 5-2-1-2(8지도서).pdf loaded\n",
      "14/22 5-2-1-2(9지도서).pdf loaded\n",
      "15/22 5-2-1-3(15지도서).pdf loaded\n",
      "16/22 5-2-1-3(16지도서).pdf loaded\n",
      "17/22 5-2-1-3(17지도서).pdf loaded\n",
      "18/22 5-2-1-3(18지도서).pdf loaded\n",
      "19/22 5-2-1-3(19-20지도서).pdf loaded\n",
      "20/22 5-2-1-3(21지도서).pdf loaded\n",
      "21/22 5-2-1-3(22지도서).pdf loaded\n",
      "22/22 5-2-1-3(23-24지도서).pdf loaded\n",
      "Total 22 documents loaded\n"
     ]
    }
   ],
   "source": [
    "## pdf 읽고 doc_list 저장 #문서 업로드\n",
    "\n",
    "data_dir = \"C:/Users/seoyj/Desktop/history_chatbot/history_chatbot/data\"\n",
    "\n",
    "doc_list = []\n",
    "pdf_list = sorted([i for i in os.listdir(data_dir) if i.endswith(\".pdf\")])\n",
    "\n",
    "for idx, pdf_name in enumerate(pdf_list):\n",
    "    loader = PyPDFLoader(os.path.join(data_dir, pdf_name))\n",
    "    documents = loader.load_and_split()\n",
    "    doc_list.extend(documents)\n",
    "    print(f\"{idx+1}/{len(pdf_list)} {pdf_name} loaded\")\n",
    "    \n",
    "print(f\"Total {idx+1} documents loaded\")"
   ]
  },
  {
   "cell_type": "code",
   "execution_count": 3,
   "metadata": {},
   "outputs": [],
   "source": [
    "import tiktoken \n",
    "\n",
    "def tiktoken_len(text): #틱토큰렌은 PDF를 틱토큰의 청크로 나뉨. 청크사이즈 900, 100정도 오버 되게. 리커시브하면 분할할 때 중복을 많이 줘서 정보를 많이 가져감. 문서 분할 가정\n",
    "    tokenizer = tiktoken.get_encoding(\"cl100k_base\")\n",
    "    tokens = tokenizer.encode(text)\n",
    "    return len(tokens)\n",
    "\n",
    "text_splitter = RecursiveCharacterTextSplitter(\n",
    "        chunk_size=900,\n",
    "        chunk_overlap=100,\n",
    "        length_function=tiktoken_len\n",
    "    )\n",
    "chunks = text_splitter.split_documents(doc_list)"
   ]
  },
  {
   "cell_type": "code",
   "execution_count": 4,
   "metadata": {},
   "outputs": [
    {
     "data": {
      "application/vnd.jupyter.widget-view+json": {
       "model_id": "b43eb5f3be95455f96f695a6af8fea29",
       "version_major": 2,
       "version_minor": 0
      },
      "text/plain": [
       ".gitattributes:   0%|          | 0.00/1.18k [00:00<?, ?B/s]"
      ]
     },
     "metadata": {},
     "output_type": "display_data"
    },
    {
     "data": {
      "application/vnd.jupyter.widget-view+json": {
       "model_id": "6a4f722870c44da9a21d2f57e60f69c7",
       "version_major": 2,
       "version_minor": 0
      },
      "text/plain": [
       "1_Pooling/config.json:   0%|          | 0.00/190 [00:00<?, ?B/s]"
      ]
     },
     "metadata": {},
     "output_type": "display_data"
    },
    {
     "data": {
      "application/vnd.jupyter.widget-view+json": {
       "model_id": "e899966199ed4d5e8691ec3e6b1e77f8",
       "version_major": 2,
       "version_minor": 0
      },
      "text/plain": [
       "README.md:   0%|          | 0.00/4.86k [00:00<?, ?B/s]"
      ]
     },
     "metadata": {},
     "output_type": "display_data"
    },
    {
     "data": {
      "application/vnd.jupyter.widget-view+json": {
       "model_id": "97fd1f7a21904daab79b66e8410021ab",
       "version_major": 2,
       "version_minor": 0
      },
      "text/plain": [
       "config.json:   0%|          | 0.00/744 [00:00<?, ?B/s]"
      ]
     },
     "metadata": {},
     "output_type": "display_data"
    },
    {
     "data": {
      "application/vnd.jupyter.widget-view+json": {
       "model_id": "dd355d4784204b4bafc95a7acd6f0760",
       "version_major": 2,
       "version_minor": 0
      },
      "text/plain": [
       "config_sentence_transformers.json:   0%|          | 0.00/123 [00:00<?, ?B/s]"
      ]
     },
     "metadata": {},
     "output_type": "display_data"
    },
    {
     "data": {
      "application/vnd.jupyter.widget-view+json": {
       "model_id": "3a3d05b983a94a17a6f8a2b164e3b54f",
       "version_major": 2,
       "version_minor": 0
      },
      "text/plain": [
       "(…)imilarity_evaluation_sts-dev_results.csv:   0%|          | 0.00/931 [00:00<?, ?B/s]"
      ]
     },
     "metadata": {},
     "output_type": "display_data"
    },
    {
     "data": {
      "application/vnd.jupyter.widget-view+json": {
       "model_id": "465564d84dbc4056927995a314a16924",
       "version_major": 2,
       "version_minor": 0
      },
      "text/plain": [
       "pytorch_model.bin:   0%|          | 0.00/443M [00:00<?, ?B/s]"
      ]
     },
     "metadata": {},
     "output_type": "display_data"
    },
    {
     "data": {
      "application/vnd.jupyter.widget-view+json": {
       "model_id": "046888a523c84552b6d296faaefecfc1",
       "version_major": 2,
       "version_minor": 0
      },
      "text/plain": [
       "sentence_bert_config.json:   0%|          | 0.00/53.0 [00:00<?, ?B/s]"
      ]
     },
     "metadata": {},
     "output_type": "display_data"
    },
    {
     "data": {
      "application/vnd.jupyter.widget-view+json": {
       "model_id": "63f8f84420e449a79553add27153c7d4",
       "version_major": 2,
       "version_minor": 0
      },
      "text/plain": [
       "(…)milarity_evaluation_sts-test_results.csv:   0%|          | 0.00/302 [00:00<?, ?B/s]"
      ]
     },
     "metadata": {},
     "output_type": "display_data"
    },
    {
     "data": {
      "application/vnd.jupyter.widget-view+json": {
       "model_id": "a7af1d6b3f224744a802d1f460257773",
       "version_major": 2,
       "version_minor": 0
      },
      "text/plain": [
       "special_tokens_map.json:   0%|          | 0.00/156 [00:00<?, ?B/s]"
      ]
     },
     "metadata": {},
     "output_type": "display_data"
    },
    {
     "data": {
      "application/vnd.jupyter.widget-view+json": {
       "model_id": "b8673e77602241c1a1a1292bd2b88712",
       "version_major": 2,
       "version_minor": 0
      },
      "text/plain": [
       "tokenizer.json:   0%|          | 0.00/495k [00:00<?, ?B/s]"
      ]
     },
     "metadata": {},
     "output_type": "display_data"
    },
    {
     "data": {
      "application/vnd.jupyter.widget-view+json": {
       "model_id": "289bdd4a849941bcb27a3fd2c6d76004",
       "version_major": 2,
       "version_minor": 0
      },
      "text/plain": [
       "tokenizer_config.json:   0%|          | 0.00/585 [00:00<?, ?B/s]"
      ]
     },
     "metadata": {},
     "output_type": "display_data"
    },
    {
     "data": {
      "application/vnd.jupyter.widget-view+json": {
       "model_id": "ec0ba7edc7584fa5957feeae8f527e27",
       "version_major": 2,
       "version_minor": 0
      },
      "text/plain": [
       "vocab.txt:   0%|          | 0.00/248k [00:00<?, ?B/s]"
      ]
     },
     "metadata": {},
     "output_type": "display_data"
    },
    {
     "data": {
      "application/vnd.jupyter.widget-view+json": {
       "model_id": "0abac34a598647bf851e6666f5ea5e1e",
       "version_major": 2,
       "version_minor": 0
      },
      "text/plain": [
       "modules.json:   0%|          | 0.00/229 [00:00<?, ?B/s]"
      ]
     },
     "metadata": {},
     "output_type": "display_data"
    }
   ],
   "source": [
    "## 3) 문서 임베딩\n",
    "from langchain.vectorstores import FAISS\n",
    "from langchain.embeddings import HuggingFaceEmbeddings\n",
    "\n",
    "embeddings = HuggingFaceEmbeddings(\n",
    "    model_name=\"jhgan/ko-sroberta-multitask\",\n",
    "    model_kwargs={'device': 'cpu'},\n",
    "    encode_kwargs={'normalize_embeddings': True}\n",
    ")  \n",
    "\n",
    "vectordb = FAISS.from_documents(chunks, embeddings)\n",
    "vectordb.save_local(\"faiss_index\")"
   ]
  }
 ],
 "metadata": {
  "kernelspec": {
   "display_name": "llm",
   "language": "python",
   "name": "python3"
  },
  "language_info": {
   "codemirror_mode": {
    "name": "ipython",
    "version": 3
   },
   "file_extension": ".py",
   "mimetype": "text/x-python",
   "name": "python",
   "nbconvert_exporter": "python",
   "pygments_lexer": "ipython3",
   "version": "3.9.13"
  }
 },
 "nbformat": 4,
 "nbformat_minor": 2
}
